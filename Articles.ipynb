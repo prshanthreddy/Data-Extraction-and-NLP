{
 "cells": [
  {
   "cell_type": "code",
   "execution_count": 1,
   "id": "5f5a4f61",
   "metadata": {},
   "outputs": [],
   "source": [
    "import pandas as pd\n",
    "import requests\n",
    "from bs4 import BeautifulSoup\n",
    "import nltk\n",
    "from nltk.corpus import stopwords\n",
    "import os\n",
    "from nltk import word_tokenize\n",
    "import numpy as np\n",
    "# nltk.download()"
   ]
  },
  {
   "cell_type": "code",
   "execution_count": null,
   "id": "ddafb176",
   "metadata": {},
   "outputs": [],
   "source": [
    "urls=[\n",
    "    \"https://insights.blackcoffer.com/ai-in-healthcare-to-improve-patient-outcomes/\",\n",
    "    \"https://insights.blackcoffer.com/what-if-the-creation-is-taking-over-the-creator/\",\n",
    "    \"https://insights.blackcoffer.com/what-jobs-will-robots-take-from-humans-in-the-future/\",\n",
    "    \"https://insights.blackcoffer.com/will-machine-replace-the-human-in-the-future-of-work/\",\n",
    "    \"https://insights.blackcoffer.com/will-ai-replace-us-or-work-with-us/\",\n",
    "    \"https://insights.blackcoffer.com/man-and-machines-together-machines-are-more-diligent-than-humans-blackcoffe/\",\n",
    "    \"https://insights.blackcoffer.com/in-future-or-in-upcoming-years-humans-and-machines-are-going-to-work-together-in-every-field-of-work/\",\n",
    "    \"https://insights.blackcoffer.com/how-neural-networks-can-be-applied-in-various-areas-in-the-future/\",\n",
    "    \"https://insights.blackcoffer.com/how-machine-learning-will-affect-your-business/\",\n",
    "    \"https://insights.blackcoffer.com/deep-learning-impact-on-areas-of-e-learning/\",\n",
    "    \"https://insights.blackcoffer.com/how-to-protect-future-data-and-its-privacy-blackcoffer/\",\n",
    "    \"https://insights.blackcoffer.com/how-machines-ai-automations-and-robo-human-are-effective-in-finance-and-banking/\",\n",
    "    \"https://insights.blackcoffer.com/ai-human-robotics-machine-future-planet-blackcoffer-thinking-jobs-workplace/\",\n",
    "    \"https://insights.blackcoffer.com/how-ai-will-change-the-world-blackcoffer/\",\n",
    "    \"https://insights.blackcoffer.com/future-of-work-how-ai-has-entered-the-workplace/\",\n",
    "    \"https://insights.blackcoffer.com/ai-tool-alexa-google-assistant-finance-banking-tool-future/\",\n",
    "    \"https://insights.blackcoffer.com/ai-healthcare-revolution-ml-technology-algorithm-google-analytics-industrialrevolution/\",\n",
    "    \"https://insights.blackcoffer.com/all-you-need-to-know-about-online-marketing/\",\n",
    "    \"https://insights.blackcoffer.com/evolution-of-advertising-industry/\",\n",
    "    \"https://insights.blackcoffer.com/how-data-analytics-can-help-your-business-respond-to-the-impact-of-covid-19/\",\n",
    "    \"https://insights.blackcoffer.com/covid-19-environmental-impact-for-the-future/\",\n",
    "    \"https://insights.blackcoffer.com/environmental-impact-of-the-covid-19-pandemic-lesson-for-the-future/\",\n",
    "    \"https://insights.blackcoffer.com/how-data-analytics-and-ai-are-used-to-halt-the-covid-19-pandemic/\",\n",
    "    \"https://insights.blackcoffer.com/difference-between-artificial-intelligence-machine-learning-statistics-and-data-mining/\",\n",
    "    \"https://insights.blackcoffer.com/how-python-became-the-first-choice-for-data-science/\",\n",
    "    \"https://insights.blackcoffer.com/how-google-fit-measure-heart-and-respiratory-rates-using-a-phone/\",\n",
    "    \"https://insights.blackcoffer.com/what-is-the-future-of-mobile-apps/\",\n",
    "    \"https://insights.blackcoffer.com/impact-of-ai-in-health-and-medicine/\",\n",
    "    \"https://insights.blackcoffer.com/telemedicine-what-patients-like-and-dislike-about-it/\",\n",
    "    \"https://insights.blackcoffer.com/how-we-forecast-future-technologies/\",\n",
    "    \"https://insights.blackcoffer.com/can-robots-tackle-late-life-loneliness/\",\n",
    "    \"https://insights.blackcoffer.com/embedding-care-robots-into-society-socio-technical-considerations/\",\n",
    "    \"https://insights.blackcoffer.com/management-challenges-for-future-digitalization-of-healthcare-services/\",\n",
    "    \"https://insights.blackcoffer.com/are-we-any-closer-to-preventing-a-nuclear-holocaust/\",\n",
    "    \"https://insights.blackcoffer.com/will-technology-eliminate-the-need-for-animal-testing-in-drug-development/\",\n",
    "    \"https://insights.blackcoffer.com/will-we-ever-understand-the-nature-of-consciousness/\",\n",
    "    \"https://insights.blackcoffer.com/will-we-ever-colonize-outer-space/\",\n",
    "    \"https://insights.blackcoffer.com/what-is-the-chance-homo-sapiens-will-survive-for-the-next-500-years/\",\n",
    "    \"https://insights.blackcoffer.com/why-does-your-business-need-a-chatbot/\",\n",
    "    \"https://insights.blackcoffer.com/how-you-lead-a-project-or-a-team-without-any-technical-expertise/\",\n",
    "    \"https://insights.blackcoffer.com/can-you-be-great-leader-without-technical-expertise/\",\n",
    "    \"https://insights.blackcoffer.com/how-does-artificial-intelligence-affect-the-environment/\",\n",
    "    \"https://insights.blackcoffer.com/how-to-overcome-your-fear-of-making-mistakes-2/\",\n",
    "    \"https://insights.blackcoffer.com/is-perfection-the-greatest-enemy-of-productivity/\",\n",
    "    \"https://insights.blackcoffer.com/global-financial-crisis-2008-causes-effects-and-its-solution/\",\n",
    "    \"https://insights.blackcoffer.com/gender-diversity-and-equality-in-the-tech-industry/\",\n",
    "    \"https://insights.blackcoffer.com/how-to-overcome-your-fear-of-making-mistakes/\",\n",
    "    \"https://insights.blackcoffer.com/how-small-business-can-survive-the-coronavirus-crisis/\",\n",
    "    \"https://insights.blackcoffer.com/impacts-of-covid-19-on-vegetable-vendors-and-food-stalls/\",\n",
    "    \"https://insights.blackcoffer.com/impacts-of-covid-19-on-vegetable-vendors/\",\n",
    "    \"https://insights.blackcoffer.com/impact-of-covid-19-pandemic-on-tourism-aviation-industries/\",\n",
    "    \"https://insights.blackcoffer.com/impact-of-covid-19-pandemic-on-sports-events-around-the-world/\",\n",
    "    \"https://insights.blackcoffer.com/changing-landscape-and-emerging-trends-in-the-indian-it-ites-industry/\",\n",
    "    \"https://insights.blackcoffer.com/online-gaming-adolescent-online-gaming-effects-demotivated-depression-musculoskeletal-and-psychosomatic-symptoms/\",\n",
    "    \"https://insights.blackcoffer.com/human-rights-outlook/\",\n",
    "    \"https://insights.blackcoffer.com/how-voice-search-makes-your-business-a-successful-business/\",\n",
    "    \"https://insights.blackcoffer.com/how-the-covid-19-crisis-is-redefining-jobs-and-services/\",\n",
    "    \"https://insights.blackcoffer.com/how-to-increase-social-media-engagement-for-marketers/\",\n",
    "    \"https://insights.blackcoffer.com/impacts-of-covid-19-on-streets-sides-food-stalls/\",\n",
    "    \"https://insights.blackcoffer.com/coronavirus-impact-on-energy-markets-2/\",\n",
    "    \"https://insights.blackcoffer.com/coronavirus-impact-on-the-hospitality-industry-5/\",\n",
    "    \"https://insights.blackcoffer.com/lessons-from-the-past-some-key-learnings-relevant-to-the-coronavirus-crisis-4/\",\n",
    "    \"https://insights.blackcoffer.com/estimating-the-impact-of-covid-19-on-the-world-of-work-2/\",\n",
    "    \"https://insights.blackcoffer.com/estimating-the-impact-of-covid-19-on-the-world-of-work-3/\",\n",
    "    \"https://insights.blackcoffer.com/travel-and-tourism-outlook/\",\n",
    "    \"https://insights.blackcoffer.com/gaming-disorder-and-effects-of-gaming-on-health/\",\n",
    "    \"https://insights.blackcoffer.com/what-is-the-repercussion-of-the-environment-due-to-the-covid-19-pandemic-situation/\",\n",
    "    \"https://insights.blackcoffer.com/what-is-the-repercussion-of-the-environment-due-to-the-covid-19-pandemic-situation-2/\",\n",
    "    \"https://insights.blackcoffer.com/impact-of-covid-19-pandemic-on-office-space-and-co-working-industries/\",\n",
    "    \"https://insights.blackcoffer.com/contribution-of-handicrafts-visual-arts-literature-in-the-indian-economy/\",\n",
    "    \"https://insights.blackcoffer.com/how-covid-19-is-impacting-payment-preferences/\",\n",
    "    \"https://insights.blackcoffer.com/how-will-covid-19-affect-the-world-of-work-2/\",\n",
    "    \"https://insights.blackcoffer.com/lessons-from-the-past-some-key-learnings-relevant-to-the-coronavirus-crisis/\",\n",
    "    \"https://insights.blackcoffer.com/covid-19-how-have-countries-been-responding/\",\n",
    "    \"https://insights.blackcoffer.com/coronavirus-impact-on-the-hospitality-industry-2/\",\n",
    "    \"https://insights.blackcoffer.com/how-will-covid-19-affect-the-world-of-work-3/\",\n",
    "    \"https://insights.blackcoffer.com/coronavirus-impact-on-the-hospitality-industry-3/\",\n",
    "    \"https://insights.blackcoffer.com/estimating-the-impact-of-covid-19-on-the-world-of-work/\",\n",
    "    \"https://insights.blackcoffer.com/covid-19-how-have-countries-been-responding-2/\",\n",
    "    \"https://insights.blackcoffer.com/how-will-covid-19-affect-the-world-of-work-4/\",\n",
    "    \"https://insights.blackcoffer.com/lessons-from-the-past-some-key-learnings-relevant-to-the-coronavirus-crisis-2/\",\n",
    "    \"https://insights.blackcoffer.com/lessons-from-the-past-some-key-learnings-relevant-to-the-coronavirus-crisis-3/\",\n",
    "    \"https://insights.blackcoffer.com/coronavirus-impact-on-the-hospitality-industry-4/\",\n",
    "    \"https://insights.blackcoffer.com/why-scams-like-nirav-modi-happen-with-indian-banks/\",\n",
    "    \"https://insights.blackcoffer.com/impact-of-covid-19-on-the-global-economy/\",\n",
    "    \"https://insights.blackcoffer.com/impact-of-covid-19coronavirus-on-the-indian-economy-2/\",\n",
    "    \"https://insights.blackcoffer.com/impact-of-covid-19-on-the-global-economy-2/\",\n",
    "    \"https://insights.blackcoffer.com/impact-of-covid-19-coronavirus-on-the-indian-economy-3/\",\n",
    "    \"https://insights.blackcoffer.com/should-celebrities-be-allowed-to-join-politics/\",\n",
    "    \"https://insights.blackcoffer.com/how-prepared-is-india-to-tackle-a-possible-covid-19-outbreak/\",\n",
    "    \"https://insights.blackcoffer.com/how-will-covid-19-affect-the-world-of-work/\",\n",
    "    \"https://insights.blackcoffer.com/controversy-as-a-marketing-strategy/\",\n",
    "    \"https://insights.blackcoffer.com/coronavirus-impact-on-the-hospitality-industry/\",\n",
    "    \"https://insights.blackcoffer.com/coronavirus-impact-on-energy-markets/\",\n",
    "    \"https://insights.blackcoffer.com/what-are-the-key-policies-that-will-mitigate-the-impacts-of-covid-19-on-the-world-of-work/\",\n",
    "    \"https://insights.blackcoffer.com/marketing-drives-results-with-a-focus-on-problems/\",\n",
    "    \"https://insights.blackcoffer.com/continued-demand-for-sustainability/\",\n",
    "    \"https://insights.blackcoffer.com/coronavirus-disease-covid-19-effect-the-impact-and-role-of-mass-media-during-the-pandemic/\",\n",
    "    \"https://insights.blackcoffer.com/should-people-wear-fabric-gloves-seeking-evidence-regarding-the-differential-transfer-of-covid-19-or-coronaviruses-generally-between-surfaces/\",\n",
    "    \"https://insights.blackcoffer.com/why-is-there-a-severe-immunological-and-inflammatory-explosion-in-those-affected-by-sarms-covid-19/\",\n",
    "    \"https://insights.blackcoffer.com/what-do-you-think-is-the-lesson-or-lessons-to-be-learned-with-covid-19/\",\n",
    "    \"https://insights.blackcoffer.com/coronavirus-the-unexpected-challenge-for-the-european-union/\",\n",
    "    \"https://insights.blackcoffer.com/industrial-revolution-4-0-pros-and-cons/\",\n",
    "    \"https://insights.blackcoffer.com/impact-of-covid-19-coronavirus-on-the-indian-economy/\",\n",
    "    \"https://insights.blackcoffer.com/impact-of-covid-19-coronavirus-on-the-indian-economy-2/\",\n",
    "    \"https://insights.blackcoffer.com/impact-of-covid-19coronavirus-on-the-indian-economy/\",\n",
    "    \"https://insights.blackcoffer.com/impact-of-covid-19-coronavirus-on-the-global-economy/\",\n",
    "    \"https://insights.blackcoffer.com/ensuring-growth-through-insurance-technology/\",\n",
    "    \"https://insights.blackcoffer.com/blockchain-in-fintech/\",\n",
    "    \"https://insights.blackcoffer.com/blockchain-for-payments/\",\n",
    "    \"https://insights.blackcoffer.com/the-future-of-investing/\",\n",
    "    \"https://insights.blackcoffer.com/big-data-analytics-in-healthcare/\",\n",
    "    \"https://insights.blackcoffer.com/business-analytics-in-the-healthcare-industry/\",\n",
    "    \"https://insights.blackcoffer.com/challenges-and-opportunities-of-big-data-in-healthcare/\",\n",
    "]"
   ]
  },
  {
   "cell_type": "code",
   "execution_count": null,
   "id": "fe47289c",
   "metadata": {},
   "outputs": [],
   "source": [
    "i=37\n",
    "for url in urls:\n",
    "    try:\n",
    "        content=requests.get(url)\n",
    "        if content.status_code==200:\n",
    "            soup=BeautifulSoup(content.text,'html.parser')\n",
    "            titile=soup.find('h1').get_text()\n",
    "            print(titile)\n",
    "            paras=soup.find_all('p')\n",
    "            file_name= \"{}.txt\".format(i)\n",
    "            if not os.path.exists(file_name):\n",
    "                with open(file_name, \"w\") as file:\n",
    "                    file.write(titile+\"\\n\")\n",
    "                    for para in paras:\n",
    "                        file.write(para.get_text())\n",
    "        else:\n",
    "            file_name= \"{}.txt\".format(i)\n",
    "            if not os.path.exists(file_name):\n",
    "                with open(file_name, \"w\") as file:\n",
    "                    file.write(\"Invalid URL\")\n",
    "    except:\n",
    "        print(\"Error\")\n",
    "    i=i+1"
   ]
  },
  {
   "cell_type": "code",
   "execution_count": 155,
   "id": "adbc12ec",
   "metadata": {},
   "outputs": [],
   "source": [
    "article=[]\n",
    "directory=os.path.join(os.getcwd())\n",
    "for i in range(37, 151):\n",
    "    filename = f\"{i}.txt\"\n",
    "    with open(os.path.join(directory, filename), 'r') as file:\n",
    "        article.append(file.read())\n",
    "articles = pd.DataFrame(article, columns = ['Article'])\n",
    "articles[\"URL\"]=pd.Series(urls)\n",
    "articles[\"Article\"]=articles[\"Article\"].str.replace(\"\\n\",\" \")\n",
    "articles[\"Article\"]=articles[\"Article\"].str.replace(\"\\t\",\" \")\n",
    "articles.to_csv('Articles.csv')"
   ]
  },
  {
   "cell_type": "code",
   "execution_count": 156,
   "id": "d5a085b0",
   "metadata": {},
   "outputs": [
    {
     "name": "stderr",
     "output_type": "stream",
     "text": [
      "[nltk_data] Downloading package stopwords to\n",
      "[nltk_data]     /Users/prashanthreddy/nltk_data...\n",
      "[nltk_data]   Package stopwords is already up-to-date!\n"
     ]
    },
    {
     "data": {
      "text/plain": [
       "True"
      ]
     },
     "execution_count": 156,
     "metadata": {},
     "output_type": "execute_result"
    }
   ],
   "source": [
    "nltk.download('stopwords')"
   ]
  },
  {
   "cell_type": "code",
   "execution_count": 157,
   "id": "326714f0",
   "metadata": {},
   "outputs": [],
   "source": [
    "stop = stopwords.words('english')"
   ]
  },
  {
   "cell_type": "code",
   "execution_count": 158,
   "id": "295cc2a3",
   "metadata": {},
   "outputs": [
    {
     "data": {
      "text/plain": [
       "0      AI healthcare Improve Patient Outcomes Introdu...\n",
       "1      What Creation Taking Over Creator? Human minds...\n",
       "2      What Jobs Will Robots Take From Humans The Fut...\n",
       "3      Will Machine Replace The Human Future Work? “A...\n",
       "4      Will AI Replace Us Work With Us? “Machine inte...\n",
       "                             ...                        \n",
       "109    Blockchain Payments Reconciling financial real...\n",
       "110    The future Investing An investment resource th...\n",
       "111    Big Data Analytics Healthcare Quality affordab...\n",
       "112    Business Analytics In The Healthcare Industry ...\n",
       "113    Challenges Opportunities Big Data Healthcare T...\n",
       "Name: Article, Length: 114, dtype: object"
      ]
     },
     "execution_count": 158,
     "metadata": {},
     "output_type": "execute_result"
    }
   ],
   "source": [
    "articles['Article'].apply(lambda x: ' '.join([word for word in x.split() if word not in (stop)]))"
   ]
  },
  {
   "cell_type": "code",
   "execution_count": 159,
   "id": "490092d4",
   "metadata": {},
   "outputs": [],
   "source": [
    "# articles.head(10)"
   ]
  },
  {
   "cell_type": "code",
   "execution_count": 160,
   "id": "203c1e89",
   "metadata": {},
   "outputs": [],
   "source": [
    "# word_cloud_text = ''.join(articles['Article'])\n",
    "\n",
    "# wordcloud = WordCloud(max_font_size=119, # Maximum font size for the largest word\n",
    "#                       max_words=100, # The maximum number of words\n",
    "#                       background_color=\"white\", # Background color for the word cloud image\n",
    "#                       scale = 10, # Scaling between computation and drawing\n",
    "#                       width=500, # Width of the canvas\n",
    "#                       height=300 # Height of the canvas\n",
    "#                      ).generate(word_cloud_text)\n",
    "\n",
    "# plt.figure()\n",
    "# plt.imshow(wordcloud, \n",
    "#            interpolation=\"bilinear\") # to make the displayed image appear more smoothly\n",
    "# plt.axis(\"off\")\n",
    "# plt.show()"
   ]
  },
  {
   "cell_type": "code",
   "execution_count": 161,
   "id": "b9a94039",
   "metadata": {},
   "outputs": [],
   "source": [
    "#Converting words to lower/upper case"
   ]
  },
  {
   "cell_type": "code",
   "execution_count": 162,
   "id": "7a997506",
   "metadata": {},
   "outputs": [],
   "source": [
    "articles['article_text_new']=articles[\"Article\"].str.lower()"
   ]
  },
  {
   "cell_type": "code",
   "execution_count": 163,
   "id": "9de554dd",
   "metadata": {},
   "outputs": [],
   "source": [
    "# token_lists = [word_tokenize(each) for each in articles['Article']]\n",
    "# tokens = [item for sublist in token_lists for item in sublist]\n",
    "# # print(\"Number of unique tokens then: \",len(set(tokens)))\n",
    "\n",
    "# # For reviews converted to lower case\n",
    "# token_lists_lower = [word_tokenize(each) for each in articles['article_text_new']]\n",
    "# tokens_lower = [item for sublist in token_lists_lower for item in sublist]\n",
    "# print(\"Number of unique tokens now: \",len(set(tokens_lower)))"
   ]
  },
  {
   "cell_type": "code",
   "execution_count": 164,
   "id": "4eb0fa36",
   "metadata": {},
   "outputs": [],
   "source": [
    "# 2.Removing Special Characters"
   ]
  },
  {
   "cell_type": "code",
   "execution_count": 165,
   "id": "40f6f95c",
   "metadata": {},
   "outputs": [],
   "source": [
    "spl_chars=articles[\"article_text_new\"].apply(lambda review:\n",
    "                                                 [char for char in list(review) if not char.isalnum() and char != ' '])\n",
    "## Getting list of list into a single list\n",
    "flat_list = [item for sublist in spl_chars for item in sublist]\n",
    "\n",
    "## Unique special characters\n",
    "# set(flat_list)"
   ]
  },
  {
   "cell_type": "code",
   "execution_count": 166,
   "id": "4197176f",
   "metadata": {},
   "outputs": [],
   "source": [
    "article_backup=articles['article_text_new'].copy()"
   ]
  },
  {
   "cell_type": "code",
   "execution_count": 167,
   "id": "3b1dda9f",
   "metadata": {},
   "outputs": [
    {
     "name": "stderr",
     "output_type": "stream",
     "text": [
      "/var/folders/zd/983gk2g15knd0j10b2q0fbbh0000gn/T/ipykernel_2879/1568194657.py:1: FutureWarning: The default value of regex will change from True to False in a future version.\n",
      "  articles['article_text_new'] = articles['article_text_new'].str.replace(r'[^A-Za-z0-9 ]+', ' ')\n"
     ]
    }
   ],
   "source": [
    "articles['article_text_new'] = articles['article_text_new'].str.replace(r'[^A-Za-z0-9 ]+', ' ')"
   ]
  },
  {
   "cell_type": "code",
   "execution_count": 168,
   "id": "6041a3dc",
   "metadata": {},
   "outputs": [],
   "source": [
    "# token_lists = [word_tokenize(each) for each in articles['Article']]\n",
    "# tokens = [item for sublist in token_lists for item in sublist]\n",
    "# # print(\"Number of unique tokens then: \",len(set(tokens)))\n",
    "\n",
    "# token_lists = [word_tokenize(each) for each in articles['article_text_new']]\n",
    "# tokens = [item for sublist in token_lists for item in sublist]\n",
    "# print(\"Number of unique tokens then: \",len(set(tokens)))\n"
   ]
  },
  {
   "cell_type": "code",
   "execution_count": 169,
   "id": "579b6a03",
   "metadata": {},
   "outputs": [],
   "source": [
    "# word_cloud_text = ''.join(articles['article_text_new'])\n",
    "\n",
    "# wordcloud = WordCloud(max_font_size=119, # Maximum font size for the largest word\n",
    "#                       max_words=100, # The maximum number of words\n",
    "#                       background_color=\"white\", # Background color for the word cloud image\n",
    "#                       scale = 10, # Scaling between computation and drawing\n",
    "#                       width=500, # Width of the canvas\n",
    "#                       height=300 # Height of the canvas\n",
    "#                      ).generate(word_cloud_text)\n",
    "\n",
    "# plt.figure()\n",
    "# plt.imshow(wordcloud, \n",
    "#            interpolation=\"bilinear\") # to make the displayed image appear more smoothly\n",
    "# plt.axis(\"off\")\n",
    "# plt.show()"
   ]
  },
  {
   "cell_type": "code",
   "execution_count": 170,
   "id": "744ea220",
   "metadata": {},
   "outputs": [],
   "source": [
    "stop_words = set(stop)\n",
    "without_stop_words = []\n",
    "stopword = []\n",
    "sentence = articles['article_text_new'][0]\n",
    "words = nltk.word_tokenize(sentence)\n",
    "\n",
    "for word in words:\n",
    "    if word in stop_words:\n",
    "        stopword.append(word)\n",
    "    else:\n",
    "        without_stop_words.append(word)"
   ]
  },
  {
   "cell_type": "code",
   "execution_count": 171,
   "id": "f12a2588",
   "metadata": {},
   "outputs": [],
   "source": [
    "def stopwords_removal(stop_words, sentence):\n",
    "    return [word for word in nltk.word_tokenize(sentence) if word not in stop_words]"
   ]
  },
  {
   "cell_type": "code",
   "execution_count": 172,
   "id": "2eea0304",
   "metadata": {},
   "outputs": [],
   "source": [
    "from nltk.stem import PorterStemmer, LancasterStemmer # Common stemmers\n",
    "from nltk.stem import WordNetLemmatizer # Common Lematizer\n",
    "# nltk.download('wordnet')\n",
    "from nltk.corpus import wordnet"
   ]
  },
  {
   "cell_type": "code",
   "execution_count": 173,
   "id": "5bac54b8",
   "metadata": {},
   "outputs": [],
   "source": [
    "# def stemm_terms(row):\n",
    "#     return [lancaster.stem(term) for term in row]\n",
    "# def lemmatize_terms(row):\n",
    "#     return [lemmatizer.lemmatize(term) for term in row]"
   ]
  },
  {
   "cell_type": "code",
   "execution_count": 174,
   "id": "063c596c",
   "metadata": {},
   "outputs": [],
   "source": [
    "from textblob import TextBlob"
   ]
  },
  {
   "cell_type": "code",
   "execution_count": 175,
   "id": "738f57ab",
   "metadata": {},
   "outputs": [],
   "source": [
    "## creating  a function to get subjectivity\n",
    "def getSubjectivity(df):\n",
    "    return TextBlob(df).sentiment.subjectivity\n",
    "def getPolarity(df):\n",
    "    return TextBlob(df).sentiment.polarity\n",
    "\n"
   ]
  },
  {
   "cell_type": "code",
   "execution_count": 176,
   "id": "6c493832",
   "metadata": {},
   "outputs": [],
   "source": [
    "# articles"
   ]
  },
  {
   "cell_type": "code",
   "execution_count": 177,
   "id": "bcb6d21a",
   "metadata": {},
   "outputs": [],
   "source": [
    "def getPositivityScore(score):\n",
    "    if score > 0:\n",
    "        return score\n",
    "    else:\n",
    "        return 0\n",
    "\n",
    "articles[\"POSITIVE SCORE\"] = articles[\"Article\"].apply(getPolarity).apply(getPositivityScore)"
   ]
  },
  {
   "cell_type": "code",
   "execution_count": 178,
   "id": "e19b754b",
   "metadata": {},
   "outputs": [],
   "source": [
    "def getNegativityScore(score):\n",
    "    if score < 0:\n",
    "        return score\n",
    "    else:\n",
    "        return 0\n",
    "\n",
    "articles[\"NEGATIVE SCORE\"] = articles[\"Article\"].apply(getPolarity).apply(getNegativityScore)\n",
    "articles[\"POLARITY SCORE\"]=articles[\"Article\"].apply(getPolarity)\n",
    "articles['SUBJECTIVITY SCORE']=articles[\"Article\"].apply(getSubjectivity)"
   ]
  },
  {
   "cell_type": "code",
   "execution_count": 179,
   "id": "84601209",
   "metadata": {},
   "outputs": [],
   "source": [
    "from nltk.tokenize import sent_tokenize\n",
    "\n",
    "def getAvgSentenceLength(text):\n",
    "    sentences = sent_tokenize(text)\n",
    "    sentence_lengths = [len(sentence.split()) for sentence in sentences]\n",
    "    return sum(sentence_lengths) / len(sentence_lengths)\n",
    "\n",
    "articles[\"AVG SENTENCE LENGTH\"] = articles[\"Article\"].apply(getAvgSentenceLength)\n"
   ]
  },
  {
   "cell_type": "code",
   "execution_count": 180,
   "id": "1eab667d",
   "metadata": {
    "scrolled": true
   },
   "outputs": [],
   "source": [
    "from nltk.tokenize import word_tokenize\n",
    "from textblob import TextBlob\n",
    "import string\n",
    "\n",
    "from nltk.corpus import cmudict\n",
    "\n",
    "d = cmudict.dict()\n",
    "\n",
    "def syllable_count(word):\n",
    "    word = word.translate(str.maketrans('', '', string.punctuation))\n",
    "    word = word.lower()\n",
    "    if word in d:\n",
    "        return [len(list(y for y in x if y[-1].isdigit())) for x in d[word]][0]\n",
    "    else:\n",
    "        return 1\n",
    "\n",
    "\n",
    "def isComplexWord(word):\n",
    "    return syllable_count(word) >= 2 and not word.isnumeric()\n",
    "\n",
    "def getPercentageOfComplexWords(text):\n",
    "    words = word_tokenize(text)\n",
    "    complex_words = [word for word in words if isComplexWord(word)]\n",
    "    return len(complex_words) / len(words) * 100\n",
    "\n",
    "articles[\"PERCENTAGE OF COMPLEX WORDS\"] = articles[\"Article\"].apply(getPercentageOfComplexWords)\n"
   ]
  },
  {
   "cell_type": "code",
   "execution_count": 181,
   "id": "acee0f25",
   "metadata": {},
   "outputs": [],
   "source": [
    "def getFogIndex(text):\n",
    "    words = word_tokenize(text)\n",
    "    sentences = sent_tokenize(text)\n",
    "    average_sentence_length = len(words) / len(sentences)\n",
    "    syllables_per_word = sum([syllable_count(word) for word in words]) / len(words)\n",
    "    fog_index = 0.4 * (average_sentence_length + syllables_per_word)\n",
    "    return fog_index\n",
    "\n",
    "articles[\"FOG INDEX\"] = articles[\"Article\"].apply(getFogIndex)\n"
   ]
  },
  {
   "cell_type": "code",
   "execution_count": 182,
   "id": "6f528214",
   "metadata": {},
   "outputs": [],
   "source": [
    "def getAvgNumWords(text):\n",
    "    words = word_tokenize(text)\n",
    "    return len(words)\n",
    "\n",
    "articles[\"AVG NUMBER OF WORDS PER SENTENCE\"] = articles[\"Article\"].apply(getAvgNumWords)\n"
   ]
  },
  {
   "cell_type": "code",
   "execution_count": 183,
   "id": "d0a92ecc",
   "metadata": {
    "scrolled": true
   },
   "outputs": [],
   "source": [
    "from nltk.tokenize import word_tokenize\n",
    "\n",
    "def isComplexWord(word):\n",
    "    return len(word) >= 6 and not word.isnumeric()\n",
    "def getWordCount(text):\n",
    "    words = word_tokenize(text)\n",
    "    return len(words)\n",
    "def getComplexWordCount(text):\n",
    "    words = word_tokenize(text)\n",
    "    complex_words = [word for word in words if isComplexWord(word)]\n",
    "    return len(complex_words)\n",
    "\n",
    "articles[\"COMPLEX WORD COUNT\"] = articles[\"Article\"].apply(getComplexWordCount)\n",
    "articles[\"WORD COUNT\"] = articles[\"Article\"].apply(getWordCount)\n"
   ]
  },
  {
   "cell_type": "code",
   "execution_count": 184,
   "id": "0faabd56",
   "metadata": {},
   "outputs": [],
   "source": [
    "from nltk.tokenize import word_tokenize\n",
    "from nltk.corpus import cmudict\n",
    "import string\n",
    "\n",
    "d = cmudict.dict()\n",
    "\n",
    "def nsyl(word):\n",
    "    try:\n",
    "        return [len(list(y for y in x if y[-1].isdigit())) for x in d[word.lower()]][0]\n",
    "    except KeyError:\n",
    "        return 0\n",
    "\n",
    "def getAvgSyllablesPerWord(text):\n",
    "    text = ''.join(filter(lambda x: x in string.printable, text))\n",
    "    words = word_tokenize(text)\n",
    "    syllables = [nsyl(word) for word in words]\n",
    "    avg_syllables_per_word = sum(syllables) / len(words)\n",
    "    return avg_syllables_per_word\n",
    "\n",
    "articles[\"SYLLABLE PER WORD\"] = articles[\"Article\"].apply(getAvgSyllablesPerWord)\n"
   ]
  },
  {
   "cell_type": "code",
   "execution_count": 185,
   "id": "d5889b32",
   "metadata": {},
   "outputs": [],
   "source": [
    "personal_pronouns = [\"i\", \"me\", \"my\", \"mine\", \"we\", \"us\", \"our\", \"ours\", \"you\", \"your\", \"yours\", \"he\", \"him\", \"his\", \"she\", \"her\", \"hers\", \"it\", \"its\", \"they\", \"them\", \"their\", \"theirs\"]\n",
    "\n",
    "def countPersonalPronouns(text):\n",
    "    text = ''.join(filter(lambda x: x in string.printable, text))\n",
    "    words = word_tokenize(text)\n",
    "    count = sum(1 for word in words if word.lower() in personal_pronouns)\n",
    "    return count\n",
    "\n",
    "articles[\"PERSONAL PRONOUNS\"] = articles[\"Article\"].apply(countPersonalPronouns)\n"
   ]
  },
  {
   "cell_type": "code",
   "execution_count": 188,
   "id": "148b10d7",
   "metadata": {},
   "outputs": [],
   "source": [
    "def avgWordLength(text):\n",
    "    text = ''.join(filter(lambda x: x in string.printable, text))\n",
    "    words = word_tokenize(text)\n",
    "    word_lengths = [len(word) for word in words]\n",
    "    avg_word_length = sum(word_lengths) / len(word_lengths)\n",
    "    return avg_word_length\n",
    "\n",
    "articles[\"AVG WORD LENGTH\"] = articles[\"Article\"].apply(avgWordLength)\n",
    "articles=articles.drop([\"Article\",\"article_text_new\"],axis=1)"
   ]
  },
  {
   "cell_type": "code",
   "execution_count": 189,
   "id": "43882a5e",
   "metadata": {},
   "outputs": [],
   "source": [
    "articles.to_csv(\"articles.csv\", index=False)"
   ]
  },
  {
   "cell_type": "code",
   "execution_count": null,
   "id": "1c38349d",
   "metadata": {},
   "outputs": [],
   "source": []
  },
  {
   "cell_type": "code",
   "execution_count": null,
   "id": "a11c121f",
   "metadata": {},
   "outputs": [],
   "source": []
  },
  {
   "cell_type": "code",
   "execution_count": null,
   "id": "2c31f97b",
   "metadata": {},
   "outputs": [],
   "source": []
  }
 ],
 "metadata": {
  "kernelspec": {
   "display_name": "Python 3.9 (tensorflow)",
   "language": "python",
   "name": "tensorflow"
  },
  "language_info": {
   "codemirror_mode": {
    "name": "ipython",
    "version": 3
   },
   "file_extension": ".py",
   "mimetype": "text/x-python",
   "name": "python",
   "nbconvert_exporter": "python",
   "pygments_lexer": "ipython3",
   "version": "3.9.13"
  }
 },
 "nbformat": 4,
 "nbformat_minor": 5
}
